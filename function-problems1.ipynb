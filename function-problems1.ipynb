{
 "cells": [
  {
   "cell_type": "markdown",
   "metadata": {},
   "source": [
    "## 함수 문제 set 1"
   ]
  },
  {
   "cell_type": "markdown",
   "metadata": {},
   "source": [
    "### 문제1\n",
    "\n",
    ">2016년 1월 1일은 금요일입니다. 2016년 a월 b일은 무슨 요일일까요? 두 수 a,b를 입력받아 2016년 a월 b일이 무슨 요일인지 리턴하는 함수, solution을 완성하세요. 요일의 이름은 일요일부터 토요일까지 각각 SUN,MON,TUE,WEB,THU,FRI,SAT입니다. \n",
    "\n",
    ">예를 들어, a=5,b=24라면 5월 24일은 화요일이므로 문자열 \"TUE\"를 반환하세요. "
   ]
  },
  {
   "cell_type": "code",
   "execution_count": 8,
   "metadata": {},
   "outputs": [
    {
     "name": "stdout",
     "output_type": "stream",
     "text": [
      "TUE\n"
     ]
    },
    {
     "data": {
      "text/plain": [
       "'FRI'"
      ]
     },
     "execution_count": 8,
     "metadata": {},
     "output_type": "execute_result"
    }
   ],
   "source": [
    "#여기에 코드를 작성하세요\n",
    "def solution(a,b):\n",
    "    month_days = [31,29,31,30,31,30,31,31,30,31,30,31]\n",
    "    whole_days = sum(month_days[:a-1]) + b + 3\n",
    "    daylist = [\"MON\",\"TUE\",\"WED\",\"THU\",\"FRI\",\"SAT\",\"SUN\"]\n",
    "    return daylist[whole_days % 7]\n",
    "\n",
    "print(solution(5,24))\n",
    "solution(1,1)"
   ]
  },
  {
   "cell_type": "markdown",
   "metadata": {},
   "source": [
    "### 문제2\n",
    "\n",
    ">어떤 문장의 각 알파벳을 일정한 거리만큼 밀어서 다른 알파벳으로 바꾸는 암호화 방식을 시저 암호라고 합니다. \n",
    "예를 들어 AB는 1만큼 밀면 BC가 되고, 3만큼 밀면 DE가 됩니다. z는 1만큼 밀면 a가 됩니다. \n",
    "문자열 s와 거리 n을 입력받아 s를 n만큼 민 암호문을 만드는 함수, solution을 완성해 보세요.\n",
    "\n",
    "\n",
    ">제한 조건: 공백은 아무리 밀어도 공백. s는 알파벳 소문자, 대문자, 공백으로만 이루어져 있다. \n",
    "s의 길이는 8000이하이다. n은 1이상 25이하인 자연수이다."
   ]
  },
  {
   "cell_type": "code",
   "execution_count": 64,
   "metadata": {},
   "outputs": [
    {
     "data": {
      "text/plain": [
       "'ab a'"
      ]
     },
     "execution_count": 64,
     "metadata": {},
     "output_type": "execute_result"
    }
   ],
   "source": [
    "# 여기에 코드를 작성하세요\n",
    "def push(string,n):\n",
    "    pushed = \"\"\n",
    "    for char in string:\n",
    "        if ord(char) <= ord('Z'):\n",
    "            pushed += chr((ord(char)+n-ord('A')) % (ord('z')- ord('a')+1) + ord('A'))\n",
    "        else:\n",
    "            pushed += chr((ord(char)+n-ord('a')) % (ord('z')- ord('a')+1) + ord('a'))\n",
    "    return pushed\n",
    "# 더 좋은 아이디어 : 공백은 그대로 놔둔댔으니 if elif로 알파벳 거르고 나머지는 그냥 더하면 되는거였음.\n",
    "# 그러면 split을 굳이 할 필요가 없음.\n",
    "\n",
    "def solution(s,n):\n",
    "    sol = [\"\".join(push(x,n)) for x in s.split()]\n",
    "    return \" \".join(sol)\n",
    "\n",
    "solution(\"za z\",1)"
   ]
  },
  {
   "cell_type": "markdown",
   "metadata": {},
   "source": [
    "### 문제3\n",
    "\n",
    ">문자열 s는 한 개 이상의 단어로 구성되어 있습니다. 각 단어는 하나 이상의 공백 문자로 구분되어 있습니다. 각 단어의 짝수번째 알파벳은 대문자로, 홀수번째 알파벳은 소문자로 바꾼 문자열을 리턴하는 함수, solution을 완성하세요\n",
    "\n",
    "\n",
    ">제한 사항: 문자열 전체의 짝/홀수 인덱스가 아니라, 단어(공백을 기준)별로 짝/홀수 인덱스를 판단해야 합니다.\n"
   ]
  },
  {
   "cell_type": "code",
   "execution_count": 66,
   "metadata": {},
   "outputs": [
    {
     "data": {
      "text/plain": [
       "'cAnDy cRuSh sAgA'"
      ]
     },
     "execution_count": 66,
     "metadata": {},
     "output_type": "execute_result"
    }
   ],
   "source": [
    "# 여기에 코드를 작성하세요\n",
    "\n",
    "def convert(x):\n",
    "    return \"\".join([x[idx].upper() if idx % 2 == 1 else x[idx].lower() for idx in range(len(x))])\n",
    "\n",
    "def solution(s):\n",
    "    return \" \".join([convert(x) for x in s.split()])\n",
    "\n",
    "solution(\"candy crush saga\")"
   ]
  },
  {
   "cell_type": "markdown",
   "metadata": {},
   "source": [
    "### 문제4\n",
    "\n",
    ">대학생 새내기들의 90%는 자신이 반에서 평균은 넘는다고 생각합니다, 첫째 줄에는 테스트 케이스의 개수 C가 주어지고, 둘째 줄부터 각 테스트 케이스마다 학생의 수 N(1 ≤ N ≤ 1000, N은 정수)이 첫 수로 주어지고, 이어서 N명의 점수가 주어집니다. 점수는 0보다 크거나 같고, 100보다 작거나 같은 정수입니다. 각 케이스마다 한 줄씩 평균을 넘는 학생들의 비율을 반올림하여 소수점 셋째 자리까지 출력하세요. "
   ]
  },
  {
   "cell_type": "code",
   "execution_count": 69,
   "metadata": {
    "scrolled": true
   },
   "outputs": [
    {
     "name": "stdout",
     "output_type": "stream",
     "text": [
      "1\n",
      "5\n",
      "13 2549 3242 454 6\n",
      "0.400\n"
     ]
    }
   ],
   "source": [
    "# 여기에 코드를 작성하세요\n",
    "C = int(input())\n",
    "for test_case in range(1,C+1):\n",
    "    N = int(input())\n",
    "    scores = list(map(int,input().split()))\n",
    "    mean = sum(scores)/N\n",
    "    good_students = [0 for x in scores if x > mean]\n",
    "    print(f\"{len(good_students)/N:.3f}\")"
   ]
  },
  {
   "cell_type": "markdown",
   "metadata": {},
   "source": [
    "### 문제5\n",
    "\n",
    ">당신은 리스트의 요소중에서 처음으로 연속되지 않은 요소를 찾아야 합니다.예를 들어, [1, 2, 3, 4, 6, 7, 8] 이라는 리스트에서 1, 2, 3, 4는 모두 연속적이지만 6은 처음으로 연속되지 않은 요소입니다. 만약에 모든 리스트의 요소가 연속적이라면 null을 반환합니다. 배열에는 최소한 2개의 요소가 있어야 하고 모든 요소의 값은 숫자이며 중복은 없고 오름차순으로 정렬됩니다. 숫자는 음수 또는 양수 모두 가능합니다."
   ]
  },
  {
   "cell_type": "code",
   "execution_count": 72,
   "metadata": {},
   "outputs": [],
   "source": [
    "#여기에 코드를 작성하세요\n",
    "\n",
    "def solution(array):\n",
    "    N = len(array)\n",
    "    for x in range(N-1):\n",
    "        diff = array[x+1] - array[x]\n",
    "        if diff is not 1:\n",
    "            return array[x+1]\n",
    "    \n",
    "solution([1,2,3,4,5,6,7,8])"
   ]
  },
  {
   "cell_type": "code",
   "execution_count": null,
   "metadata": {},
   "outputs": [],
   "source": []
  }
 ],
 "metadata": {
  "kernelspec": {
   "display_name": "Python 3",
   "language": "python",
   "name": "python3"
  },
  "language_info": {
   "codemirror_mode": {
    "name": "ipython",
    "version": 3
   },
   "file_extension": ".py",
   "mimetype": "text/x-python",
   "name": "python",
   "nbconvert_exporter": "python",
   "pygments_lexer": "ipython3",
   "version": "3.7.0"
  }
 },
 "nbformat": 4,
 "nbformat_minor": 2
}
