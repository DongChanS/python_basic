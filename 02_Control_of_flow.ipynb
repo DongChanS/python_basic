{
 "cells": [
  {
   "cell_type": "markdown",
   "metadata": {
    "slideshow": {
     "slide_type": "slide"
    }
   },
   "source": [
    "# 조건문\n",
    "\n",
    "지금까지의 코드는 위에서부터 아래로 순차적으로 명령을 수행하는 프로그램을 작성하였다. \n",
    "\n",
    "제어문(Control of Flow)은 크게 반복문과 조건문으로 나눌 수 있고, 이는 순서도(Flow chart로 표현이 가능하다.)\n",
    "\n",
    "\n",
    "<center> \n",
    "    <img src=\"./images/02/if.png\", alt='if flowchart'/>\n",
    "</center>\n"
   ]
  },
  {
   "cell_type": "code",
   "execution_count": null,
   "metadata": {
    "slideshow": {
     "slide_type": "subslide"
    }
   },
   "outputs": [],
   "source": [
    "# 위의 flow chart로 표현하면 아래와 같다.\n"
   ]
  },
  {
   "cell_type": "markdown",
   "metadata": {
    "slideshow": {
     "slide_type": "slide"
    }
   },
   "source": [
    "## 조건문 문법\n",
    "\n",
    "1. `if` 문은 반드시 일정한 참/거짓을 판단할 수 있는 `조건식`과 함께 사용이 되어야한다.\n",
    "`if <조건식>:`\n",
    "\n",
    "2-1. `<조건식>`이 참인 경우 `:` 이후의 문장을 수행한다.\n",
    "\n",
    "2-2. `<조건식>`이 거짓인 경우 `else:` 이후의 문장을 수행한다.\n",
    "\n",
    "* 이때 반드시 **들여쓰기를** 유의해야한다. \n",
    "파이썬에서는 코드 블록을 자바나 C언어의 `{}`와 달리 `들여쓰기`로 판단하기 때문이다.\n",
    "* 앞으로 우리는 `PEP-8`에서 권장하는 `4spaces`를 사용할 것이다.\n"
   ]
  },
  {
   "cell_type": "markdown",
   "metadata": {},
   "source": [
    "<center>\n",
    "    <img src=\"./images/02/if_style.png\", alt=\"if style\"/>\n",
    "</center>"
   ]
  },
  {
   "cell_type": "markdown",
   "metadata": {
    "slideshow": {
     "slide_type": "subslide"
    }
   },
   "source": [
    "<center><strong style=\"font-size: 40px;\">우리는 4spaces를 맞춰서 씁니다!</strong></center>\n",
    "<br>\n",
    "\n",
    "<center>\n",
    "    <img src=\"./images/02/spacetab.png\", alt=\"[space vs tab]\"/>\n",
    "</center>    \n",
    "\n",
    "\n",
    "\n",
    "\n",
    "[출처 : 400,000 GitHub repositories, 1 billion files, 14 terabytes of code: Spaces or Tabs?](https://medium.com/@hoffa/400-000-github-repositories-1-billion-files-14-terabytes-of-code-spaces-or-tabs-7cfe0b5dd7fd)\n"
   ]
  },
  {
   "cell_type": "markdown",
   "metadata": {},
   "source": [
    "### 실습문제1 \n",
    "\n",
    "\n",
    "> **조건문을 통해 변수 num의 값과 홀수/짝수 여부를 출력하세요.**\n",
    "\n",
    "---\n",
    "\n",
    "```\n",
    "예시 출력)\n",
    "3\n",
    "홀수입니다.\n",
    "```"
   ]
  },
  {
   "cell_type": "code",
   "execution_count": null,
   "metadata": {
    "slideshow": {
     "slide_type": "subslide"
    }
   },
   "outputs": [],
   "source": [
    "# 실습! 아래에 코드를 작성하세요.\n",
    "num = int(input(\"점수를 입력하세요 : \"))\n",
    "\n",
    "if num % 2 == 0:\n",
    "    print(\"짝수입니다.\")\n",
    "else:\n",
    "    print(\"홀수입니다.\")\n"
   ]
  },
  {
   "cell_type": "markdown",
   "metadata": {},
   "source": [
    "### 실습문제2\n",
    "\n",
    ">아래 코드의 출력 결과를 예상해보세요"
   ]
  },
  {
   "cell_type": "code",
   "execution_count": 1,
   "metadata": {},
   "outputs": [
    {
     "name": "stdout",
     "output_type": "stream",
     "text": [
      "3\n",
      "5\n"
     ]
    }
   ],
   "source": [
    "#코드는 다음과 같습니다. 출력 결과를 예상해보세요. \n",
    "if True:\n",
    "    if False:\n",
    "        print(\"1\")\n",
    "        print(\"2\")\n",
    "    else:\n",
    "        print(\"3\")\n",
    "else:\n",
    "    print(\"4\")\n",
    "print(\"5\")"
   ]
  },
  {
   "cell_type": "markdown",
   "metadata": {},
   "source": [
    "### 실습문제3 \n",
    "\n",
    ">호날두는 5,000원의 돈을 가지고 있고 카드는 없다고 한다. 이러한 호날두의 상태는 아래와 같이 표현할 수 있을 것이다. 호날두는 택시를 타고 목적지까지 가려고 한다. 목적지까지 가기 위해서는 카드를 소유하고 있거나 4,000원 이상의 현금을 가지고 있어야 한다고 한다. \n",
    "호날두는 택시를 탈 수 있는지를 판별할 수 있는 조건식을 작성하고 그 결과를 출력하세요."
   ]
  },
  {
   "cell_type": "code",
   "execution_count": 3,
   "metadata": {},
   "outputs": [
    {
     "name": "stdout",
     "output_type": "stream",
     "text": [
      "True\n"
     ]
    }
   ],
   "source": [
    "#여기에 코드를 작성하세요\n",
    "def Can_taxi(is_card,money):\n",
    "    if is_card:\n",
    "        print(True)\n",
    "    elif money >= 4000:\n",
    "        print(True)\n",
    "    else:\n",
    "        print(False)\n",
    "        \n",
    "Can_taxi(False,5000)"
   ]
  },
  {
   "cell_type": "markdown",
   "metadata": {},
   "source": [
    "## 추가문제\n",
    "\n",
    "하나에 1000원 하는 연필과 하나에 2000원하는 펜이 있다. 구입 시 10000원이 넘으면 10%를 할인해 준다고 한다.\n",
    "구매하고자하는 연필과 펜의 수를 사용자로부터 입력받고 조건문을 활용하여 할인율을 적용하고 최종 구입 금액을 출력하는 프로그램을 작성하시오"
   ]
  },
  {
   "cell_type": "code",
   "execution_count": 12,
   "metadata": {},
   "outputs": [
    {
     "name": "stdout",
     "output_type": "stream",
     "text": [
      "3600.0\n"
     ]
    }
   ],
   "source": [
    "def pay(pen,pencil):\n",
    "    price = pen*2000 + pencil*1000\n",
    "    return price*0.9 if price >= 1000 else price\n",
    "\n",
    "print(pay(1,2))"
   ]
  },
  {
   "cell_type": "markdown",
   "metadata": {
    "slideshow": {
     "slide_type": "slide"
    }
   },
   "source": [
    "## 복수 조건문\n",
    "\n",
    "2개 이상의 조건문을 활용할 경우 `elif <조건식>:`을 활용한다.\n",
    "<center>\n",
    "<img src=\"./images/02/elif.png\", alt=\"elif\">\n",
    "</center>"
   ]
  },
  {
   "cell_type": "markdown",
   "metadata": {
    "slideshow": {
     "slide_type": "subslide"
    }
   },
   "source": [
    "### 실습문제1 \n",
    "\n",
    "> 조건문을 통해 변수 score에 따른 평점을 출력하세요.\n",
    "\n",
    "|점수|등급|\n",
    "|---|---|\n",
    "|90점 이상|A|\n",
    "|80점 이상|B|\n",
    "|70점 이상|C|\n",
    "|60점 이상|D|\n",
    "|60점 미만|F|\n",
    "\n",
    "--- \n",
    "\n",
    "```\n",
    "예시 출력)\n",
    "B\n",
    "```"
   ]
  },
  {
   "cell_type": "code",
   "execution_count": 5,
   "metadata": {
    "slideshow": {
     "slide_type": "-"
    }
   },
   "outputs": [
    {
     "name": "stdout",
     "output_type": "stream",
     "text": [
      "점수를 입력하세요 : 30\n",
      "F\n"
     ]
    }
   ],
   "source": [
    "# 실습!\n",
    "score = int(input(\"점수를 입력하세요 : \"))\n",
    "# 아래에 코드를 작성하세요.\n",
    "scoredict = {90:'A',80:'B',70:'C',60:'D',0:'F'}\n",
    "\n",
    "for x,y in scoredict.items():\n",
    "    if score >= x:\n",
    "        print(y)\n",
    "        break"
   ]
  },
  {
   "cell_type": "markdown",
   "metadata": {
    "slideshow": {
     "slide_type": "subslide"
    }
   },
   "source": [
    "### 실습문제2 \n",
    "\n",
    "> 다음 코드의 결과값을 예측하세요\n"
   ]
  },
  {
   "cell_type": "code",
   "execution_count": 6,
   "metadata": {},
   "outputs": [
    {
     "name": "stdout",
     "output_type": "stream",
     "text": [
      "shirt\n"
     ]
    }
   ],
   "source": [
    "# 코드는 여기 있습니다. 결과는 무엇일까요?\n",
    "a = \"Life is too short, you need python\"\n",
    "\n",
    "if 'wife' in a:\n",
    "    print('wife')\n",
    "elif 'python' in a and 'you' not in a:\n",
    "    print('python')\n",
    "elif 'shirt' not in a:\n",
    "    print('shirt')\n",
    "elif 'need' in a:\n",
    "    print('need')\n",
    "else:\n",
    "    print('none')"
   ]
  },
  {
   "cell_type": "markdown",
   "metadata": {},
   "source": [
    "### 실습문제3\n",
    "\n",
    ">다음 소스 코드를 완성하여 1부터 100까지의 숫자를 출력하면서 2의 배수일 때는 'Fizz', 11의 배수일 때는 'Buzz', 2와 11의 공배수일 때는 'FizzBuzz'가 출력되게 만드세요."
   ]
  },
  {
   "cell_type": "code",
   "execution_count": 8,
   "metadata": {},
   "outputs": [
    {
     "name": "stdout",
     "output_type": "stream",
     "text": [
      "2 : Fizz\n",
      "4 : Fizz\n",
      "6 : Fizz\n",
      "8 : Fizz\n",
      "10 : Fizz\n",
      "11 : Buzz\n",
      "12 : Fizz\n",
      "14 : Fizz\n",
      "16 : Fizz\n",
      "18 : Fizz\n",
      "20 : Fizz\n",
      "22 : FizzBuzz\n",
      "24 : Fizz\n",
      "26 : Fizz\n",
      "28 : Fizz\n",
      "30 : Fizz\n",
      "32 : Fizz\n",
      "33 : Buzz\n",
      "34 : Fizz\n",
      "36 : Fizz\n",
      "38 : Fizz\n",
      "40 : Fizz\n",
      "42 : Fizz\n",
      "44 : FizzBuzz\n",
      "46 : Fizz\n",
      "48 : Fizz\n",
      "50 : Fizz\n",
      "52 : Fizz\n",
      "54 : Fizz\n",
      "55 : Buzz\n",
      "56 : Fizz\n",
      "58 : Fizz\n",
      "60 : Fizz\n",
      "62 : Fizz\n",
      "64 : Fizz\n",
      "66 : FizzBuzz\n",
      "68 : Fizz\n",
      "70 : Fizz\n",
      "72 : Fizz\n",
      "74 : Fizz\n",
      "76 : Fizz\n",
      "77 : Buzz\n",
      "78 : Fizz\n",
      "80 : Fizz\n",
      "82 : Fizz\n",
      "84 : Fizz\n",
      "86 : Fizz\n",
      "88 : FizzBuzz\n",
      "90 : Fizz\n",
      "92 : Fizz\n",
      "94 : Fizz\n",
      "96 : Fizz\n",
      "98 : Fizz\n",
      "99 : Buzz\n",
      "100 : Fizz\n"
     ]
    }
   ],
   "source": [
    "#여기에 코드를 입력하세요.\n",
    "\n",
    "for x in range(1,101):\n",
    "    if x%2 == 0 and x%11 == 0:\n",
    "        print(f'{x} : FizzBuzz')\n",
    "    elif x%11 == 0:\n",
    "        print(f'{x} : Buzz')\n",
    "    elif x%2 == 0:\n",
    "        print(f'{x} : Fizz')"
   ]
  },
  {
   "cell_type": "markdown",
   "metadata": {},
   "source": [
    "### 실습문제4\n",
    "\n",
    ">세 정수 A, B, C가 주어진다. 이때, 두 번째로 큰 정수를 출력하는 프로그램을 작성하세요."
   ]
  },
  {
   "cell_type": "code",
   "execution_count": 14,
   "metadata": {},
   "outputs": [
    {
     "name": "stdout",
     "output_type": "stream",
     "text": [
      "10 20 30\n",
      "20\n"
     ]
    }
   ],
   "source": [
    "# 여기에 코드를 입력하세요1\n",
    "\n",
    "intlist = list(map(lambda x : int(x),input().split()))\n",
    "[A,B,C] = intlist\n",
    "\n",
    "#여기에 코드를 입력하세요2\n",
    "\n",
    "if A <= B:\n",
    "    if A>=C:\n",
    "        print(A)\n",
    "    elif B>=C:\n",
    "        print(C)\n",
    "    else:\n",
    "        print(B)\n",
    "else:\n",
    "    if B>=C:\n",
    "        print(B)\n",
    "    elif A>=C:\n",
    "        print(C)\n",
    "    else:\n",
    "        print(A)"
   ]
  },
  {
   "cell_type": "markdown",
   "metadata": {},
   "source": [
    "### 실습문제5\n",
    "\n",
    ">사용자로부터 달러, 엔, 유로, 또는 위안 금액을 입력받은 후 이를 원으로 변환하는 프로그램을 작성하세요. 각 통화별 환율은 다음과 같습니다. 사용자는 100 달러, 1000 엔, 13 유로, 100 위안과 같이 금액과 통화명 사이에 공백을 넣어 입력한다고 가정합니다."
   ]
  },
  {
   "cell_type": "code",
   "execution_count": null,
   "metadata": {},
   "outputs": [],
   "source": [
    "#코드는 여기에 작성하세요\n",
    "\n",
    "\n"
   ]
  },
  {
   "cell_type": "markdown",
   "metadata": {
    "slideshow": {
     "slide_type": "slide"
    }
   },
   "source": [
    "## 조건 표현식(Conditional Expression)\n",
    "\n",
    "**활용법**\n",
    "\n",
    "```\n",
    "true_value if <조건식> else false_value\n",
    "```\n",
    "    \n",
    "와 같이 표현식을 작성할 수 있다. 이는 보통 다른 언어에서 활용되는 삼항연산자와 동일하다."
   ]
  },
  {
   "cell_type": "code",
   "execution_count": null,
   "metadata": {},
   "outputs": [],
   "source": []
  },
  {
   "cell_type": "markdown",
   "metadata": {
    "slideshow": {
     "slide_type": "subslide"
    }
   },
   "source": [
    "* 표현식은 보통 조건에 따라 값을 정할 때 많이 활용된다."
   ]
  },
  {
   "cell_type": "code",
   "execution_count": null,
   "metadata": {},
   "outputs": [],
   "source": [
    "# 아래의 코드는 무엇을 위한 코드일까요?\n",
    "num = int(input(\"숫자를 입력하세요 : \"))\n",
    "value = num if num >= 0 else 0\n",
    "print(value)"
   ]
  },
  {
   "cell_type": "code",
   "execution_count": null,
   "metadata": {
    "slideshow": {
     "slide_type": "fragment"
    }
   },
   "outputs": [],
   "source": [
    "# 위의 코드와 동일한 코드입니다."
   ]
  },
  {
   "cell_type": "code",
   "execution_count": null,
   "metadata": {
    "slideshow": {
     "slide_type": "subslide"
    }
   },
   "outputs": [],
   "source": [
    "# 다음의 코드와 동일한 조건 표현식을 작성해보세요.\n",
    "num = 2\n",
    "if num % 2:\n",
    "    result = '홀수입니다.'\n",
    "else:\n",
    "    result = '짝수입니다.'\n",
    "print(result)"
   ]
  },
  {
   "cell_type": "code",
   "execution_count": null,
   "metadata": {},
   "outputs": [],
   "source": [
    "# 여기에 코드를 작성하세요."
   ]
  },
  {
   "cell_type": "markdown",
   "metadata": {
    "slideshow": {
     "slide_type": "slide"
    }
   },
   "source": [
    "# 반복문\n",
    "\n",
    "## `while` 문\n",
    "\n",
    "`while`문은 조건식이 참(True)인 경우 반복적으로 코드를 실행합니다. \n",
    "<br>\n",
    "<br>\n",
    "<center> \n",
    "    <img src=\"./images/02/while.png\", alt=\"while\"/>\n",
    "</center>\n",
    "\n",
    "**while 문은 종료조건을 반드시 설정해주어야 합니다.**"
   ]
  },
  {
   "cell_type": "code",
   "execution_count": null,
   "metadata": {},
   "outputs": [],
   "source": []
  },
  {
   "cell_type": "markdown",
   "metadata": {
    "slideshow": {
     "slide_type": "subslide"
    }
   },
   "source": [
    "<center>\n",
    "    <img src=\"./images/02/while_style.png\", alt=\"\">\n",
    "</center>\n",
    "\n",
    "`while`문 역시 `<조건식>`이후에 `:`이 반드시 필요하며, \n",
    "\n",
    "이후 오는 코드 블록은 `4spaces`로 **들여쓰기**를 해주셔야 합니다."
   ]
  },
  {
   "cell_type": "markdown",
   "metadata": {
    "slideshow": {
     "slide_type": "slide"
    }
   },
   "source": [
    "## `for` 문\n",
    "\n",
    "`for`문은 정해진 범위 내(시퀀스)에서 순차적으로 코드를 실행합니다.\n",
    "\n",
    "<br>\n",
    "<center>\n",
    "    <img src=\"./images/02/loop-for.png\", alt=\"\">\n",
    "</center>"
   ]
  },
  {
   "cell_type": "code",
   "execution_count": null,
   "metadata": {
    "slideshow": {
     "slide_type": "subslide"
    }
   },
   "outputs": [],
   "source": []
  },
  {
   "cell_type": "markdown",
   "metadata": {
    "slideshow": {
     "slide_type": "subslide"
    }
   },
   "source": [
    "<center>\n",
    "    <img src=\"./images/02/for_style.png\", alt=\"for_style\">\n",
    "</center>\n",
    "\n",
    "---\n",
    "```\n",
    "for variable in sequence:\n",
    "    code line1\n",
    "    code line2\n",
    "```\n",
    "\n",
    "`for`문은 `sequence`를 순차적으로 **variable**에 값을 바인딩하며, 코드 블록을 시행합니다."
   ]
  },
  {
   "cell_type": "markdown",
   "metadata": {
    "slideshow": {
     "slide_type": "subslide"
    }
   },
   "source": [
    "![for animation](./images/02/for.gif)"
   ]
  },
  {
   "cell_type": "markdown",
   "metadata": {},
   "source": [
    "### 실습문제 0\n",
    "\n",
    "> 1부터 1000까지의 자연수 중 5의 배수에 해당되는 자연수들의 총합을 구하세요."
   ]
  },
  {
   "cell_type": "code",
   "execution_count": 16,
   "metadata": {},
   "outputs": [
    {
     "name": "stdout",
     "output_type": "stream",
     "text": [
      "100500\n"
     ]
    }
   ],
   "source": [
    "#여기에 코드를 작성하세요 1 \n",
    "\n",
    "print(sum([x for x in range(1,1001) if x % 5 == 0]))\n",
    "\n",
    "#여기에 코드를 작성하세요 2\n"
   ]
  },
  {
   "cell_type": "markdown",
   "metadata": {
    "slideshow": {
     "slide_type": "subslide"
    }
   },
   "source": [
    "###  실습문제 1\n",
    "\n",
    "> 반복문과 조건문만 활용하여 1~30까지 숫자 중에 홀수만 담긴 리스트를 만드세요\n",
    "\n",
    "---\n",
    "```\n",
    "예시 출력)\n",
    "[1, 3, 5, 7, 9, 11, 13, 15, 17, 19, 21, 23, 25, 27, 29]\n",
    "```"
   ]
  },
  {
   "cell_type": "code",
   "execution_count": 17,
   "metadata": {
    "slideshow": {
     "slide_type": "subslide"
    }
   },
   "outputs": [
    {
     "name": "stdout",
     "output_type": "stream",
     "text": [
      "[2, 4, 6, 8, 10, 12, 14, 16, 18, 20, 22, 24, 26, 28, 30]\n"
     ]
    }
   ],
   "source": [
    "# 여기에 코드를 작성하세요.\n",
    "print([x for x in range(1,31) if x % 2 == 0])"
   ]
  },
  {
   "cell_type": "markdown",
   "metadata": {},
   "source": [
    "\n",
    "### 실습문제 2\n",
    "\n",
    "> n이 입력으로 주어졌을 때, 1부터 n까지 합을 구하는 프로그램을 작성하세요."
   ]
  },
  {
   "cell_type": "code",
   "execution_count": 20,
   "metadata": {},
   "outputs": [
    {
     "data": {
      "text/plain": [
       "7381"
      ]
     },
     "execution_count": 20,
     "metadata": {},
     "output_type": "execute_result"
    }
   ],
   "source": [
    "# 여기에 코드를 작성하세요 \n",
    "\n",
    "def program(n):\n",
    "    return sum(list(range(1,n+1)))\n",
    "\n",
    "program(121)"
   ]
  },
  {
   "cell_type": "markdown",
   "metadata": {},
   "source": [
    "### 실습문제 3\n",
    "\n",
    "> for와 range 함수를 이용하여 구구단 결과를 출력하세요."
   ]
  },
  {
   "cell_type": "code",
   "execution_count": 21,
   "metadata": {},
   "outputs": [
    {
     "name": "stdout",
     "output_type": "stream",
     "text": [
      "1X1 = 1\n",
      "1X2 = 2\n",
      "1X3 = 3\n",
      "1X4 = 4\n",
      "1X5 = 5\n",
      "1X6 = 6\n",
      "1X7 = 7\n",
      "1X8 = 8\n",
      "1X9 = 9\n",
      "2X2 = 4\n",
      "2X3 = 6\n",
      "2X4 = 8\n",
      "2X5 = 10\n",
      "2X6 = 12\n",
      "2X7 = 14\n",
      "2X8 = 16\n",
      "2X9 = 18\n",
      "3X3 = 9\n",
      "3X4 = 12\n",
      "3X5 = 15\n",
      "3X6 = 18\n",
      "3X7 = 21\n",
      "3X8 = 24\n",
      "3X9 = 27\n",
      "4X4 = 16\n",
      "4X5 = 20\n",
      "4X6 = 24\n",
      "4X7 = 28\n",
      "4X8 = 32\n",
      "4X9 = 36\n",
      "5X5 = 25\n",
      "5X6 = 30\n",
      "5X7 = 35\n",
      "5X8 = 40\n",
      "5X9 = 45\n",
      "6X6 = 36\n",
      "6X7 = 42\n",
      "6X8 = 48\n",
      "6X9 = 54\n",
      "7X7 = 49\n",
      "7X8 = 56\n",
      "7X9 = 63\n",
      "8X8 = 64\n",
      "8X9 = 72\n",
      "9X9 = 81\n"
     ]
    }
   ],
   "source": [
    "# 여기에 코드를 작성하세요\n",
    "\n",
    "for x in range(1,10):\n",
    "    for y in range(x,10):\n",
    "        print(f\"{x}X{y} = {x*y}\")\n"
   ]
  },
  {
   "cell_type": "markdown",
   "metadata": {},
   "source": [
    "### 실습문제 4\n",
    "\n",
    "> 표준 입력으로 삼각형의 높이가 입력됩니다. 입력된 높이만큼 산 모양으로 별을 출력하는 프로그램을 만드세요. 모양이 같더라도 공백이나 빈 줄이 더 들어가면 틀린 것으로 처리됩니다.\n",
    "\n"
   ]
  },
  {
   "cell_type": "code",
   "execution_count": 30,
   "metadata": {},
   "outputs": [
    {
     "name": "stdout",
     "output_type": "stream",
     "text": [
      " 삼각형 높이 : 50\n",
      "                                                 *                                                 \n",
      "                                                ***                                                \n",
      "                                               *****                                               \n",
      "                                              *******                                              \n",
      "                                             *********                                             \n",
      "                                            ***********                                            \n",
      "                                           *************                                           \n",
      "                                          ***************                                          \n",
      "                                         *****************                                         \n",
      "                                        *******************                                        \n",
      "                                       *********************                                       \n",
      "                                      ***********************                                      \n",
      "                                     *************************                                     \n",
      "                                    ***************************                                    \n",
      "                                   *****************************                                   \n",
      "                                  *******************************                                  \n",
      "                                 *********************************                                 \n",
      "                                ***********************************                                \n",
      "                               *************************************                               \n",
      "                              ***************************************                              \n",
      "                             *****************************************                             \n",
      "                            *******************************************                            \n",
      "                           *********************************************                           \n",
      "                          ***********************************************                          \n",
      "                         *************************************************                         \n",
      "                        ***************************************************                        \n",
      "                       *****************************************************                       \n",
      "                      *******************************************************                      \n",
      "                     *********************************************************                     \n",
      "                    ***********************************************************                    \n",
      "                   *************************************************************                   \n",
      "                  ***************************************************************                  \n",
      "                 *****************************************************************                 \n",
      "                *******************************************************************                \n",
      "               *********************************************************************               \n",
      "              ***********************************************************************              \n",
      "             *************************************************************************             \n",
      "            ***************************************************************************            \n",
      "           *****************************************************************************           \n",
      "          *******************************************************************************          \n",
      "         *********************************************************************************         \n",
      "        ***********************************************************************************        \n",
      "       *************************************************************************************       \n",
      "      ***************************************************************************************      \n",
      "     *****************************************************************************************     \n",
      "    *******************************************************************************************    \n",
      "   *********************************************************************************************   \n",
      "  ***********************************************************************************************  \n",
      " ************************************************************************************************* \n",
      "***************************************************************************************************\n"
     ]
    }
   ],
   "source": [
    "# 여기에 코드를 작성하세요 \n",
    "\n",
    "H = int(input(\" 삼각형 높이 : \"))\n",
    "\n",
    "for x in range(H):\n",
    "    print(\" \"*(H-x-1)+\"*\"*(2*x+1)+\" \"*(H-x-1))"
   ]
  },
  {
   "cell_type": "markdown",
   "metadata": {
    "slideshow": {
     "slide_type": "slide"
    }
   },
   "source": [
    "### index와 함께 `for`문 활용하기\n",
    "\n",
    "`enumerate()`를 활용하면, 추가적인 변수를 활용할 수 있다."
   ]
  },
  {
   "cell_type": "code",
   "execution_count": null,
   "metadata": {},
   "outputs": [],
   "source": []
  },
  {
   "cell_type": "markdown",
   "metadata": {
    "slideshow": {
     "slide_type": "subslide"
    }
   },
   "source": [
    "* `enumerate()`는 [파이썬 표준 라이브러리의 내장함수](https://docs.python.org/ko/3.6/library/functions.html) 중 하나이며, 다음과 같이 구성되어 있다.\n",
    "\n",
    "<center>\n",
    "    <img src=\"./images/02/enumerate.png\", alt=\"enumerate\">\n",
    "</center>"
   ]
  },
  {
   "cell_type": "code",
   "execution_count": null,
   "metadata": {},
   "outputs": [],
   "source": []
  },
  {
   "cell_type": "code",
   "execution_count": null,
   "metadata": {},
   "outputs": [],
   "source": []
  },
  {
   "cell_type": "markdown",
   "metadata": {},
   "source": [
    "### 실습문제1 - enumerate 활용\n",
    "\n",
    ">colors = ['Apple', 'Banana', 'Coconut', 'Deli', 'Ele', 'Grape'] 다음 리스트에서 0번째 4번째 5번째 요소를 지운 새로운 리스트를 생성하시오."
   ]
  },
  {
   "cell_type": "code",
   "execution_count": 42,
   "metadata": {},
   "outputs": [
    {
     "data": {
      "text/plain": [
       "['Banana', 'Coconut', 'Deli']"
      ]
     },
     "execution_count": 42,
     "metadata": {},
     "output_type": "execute_result"
    }
   ],
   "source": [
    "#코드를 여기에 작성하세요. \n",
    "colors = ['Apple', 'Banana', 'Coconut', 'Deli', 'Ele', 'Grape'] \n",
    "good = [y for x,y in enumerate(colors) if x not in (0,4,5)]\n",
    "good"
   ]
  },
  {
   "cell_type": "markdown",
   "metadata": {
    "slideshow": {
     "slide_type": "subslide"
    }
   },
   "source": [
    "### dictionary 반복문 활용하기\n",
    "\n",
    "기본적으로 dictionary를 `for`문을 시행시키면 다음과 같이 시행됩니다."
   ]
  },
  {
   "cell_type": "code",
   "execution_count": null,
   "metadata": {},
   "outputs": [],
   "source": []
  },
  {
   "cell_type": "markdown",
   "metadata": {
    "slideshow": {
     "slide_type": "subslide"
    }
   },
   "source": [
    "dictionary의 `key`를 출력함으로써 `value`에도 접근할 수 있기 때문입니다.\n",
    "\n",
    "따라서 dictionary의 value를 출력하기 위해서는 아래와 같이 작성합니다."
   ]
  },
  {
   "cell_type": "code",
   "execution_count": null,
   "metadata": {},
   "outputs": [],
   "source": []
  },
  {
   "cell_type": "markdown",
   "metadata": {
    "slideshow": {
     "slide_type": "subslide"
    }
   },
   "source": [
    "* dictionary에서 `for` 활용하는 4가지 방법\n",
    "\n",
    "```python\n",
    "# 0. dictionary (key 반복)\n",
    "for key in dict:\n",
    "    print(key)\n",
    "\n",
    "# 1. key 반복\n",
    "for key in dict.keys():\n",
    "    print(key)\n",
    "    \n",
    "# 2. value 반복    \n",
    "for val in dict.values():\n",
    "    print(val)\n",
    "\n",
    "# 3. key와 value 반복\n",
    "for key, val in dict.items():\n",
    "    print(key, val)\n",
    "\n",
    "```"
   ]
  },
  {
   "cell_type": "markdown",
   "metadata": {
    "slideshow": {
     "slide_type": "subslide"
    }
   },
   "source": [
    "### 실습문제 \n",
    "\n",
    "> 한번 직접 4가지 반복문을 활용해보고 출력되는 결과를 확인해보세요.\n",
    "\n",
    "```\n",
    "classroom = {\"teacher\": \"Kim\", \"student1\": \"Hong\", \"student2\": \"Kang\"}\n",
    "\n",
    "```"
   ]
  },
  {
   "cell_type": "code",
   "execution_count": null,
   "metadata": {},
   "outputs": [],
   "source": [
    "# 여기에 코드를 작성하세요."
   ]
  },
  {
   "cell_type": "markdown",
   "metadata": {
    "slideshow": {
     "slide_type": "slide"
    }
   },
   "source": [
    "## `break`, `continue`, `else`\n",
    "\n",
    "### `break`\n",
    "\n",
    "`break`문은 반복문을 종료하는 표현입니다. "
   ]
  },
  {
   "cell_type": "code",
   "execution_count": null,
   "metadata": {},
   "outputs": [],
   "source": []
  },
  {
   "cell_type": "markdown",
   "metadata": {
    "slideshow": {
     "slide_type": "subslide"
    }
   },
   "source": [
    "#### 실습문제\n",
    "\n",
    "> 조건문과 반복문, break를 통해서 아래의 코드와 동일한 코드를 작성하세요.\n",
    "> \n",
    "> (3이 있을 경우 True를 print하고, 아닐 경우 False를 print 합니다.)\n",
    "\n",
    "\n",
    "```python\n",
    "numbers = [1, 5, 10]\n",
    "print(3 in numbers)\n",
    "```\n",
    "\n",
    "---\n",
    "```\n",
    "예시 출력)\n",
    "False\n",
    "```"
   ]
  },
  {
   "cell_type": "code",
   "execution_count": null,
   "metadata": {},
   "outputs": [],
   "source": [
    "numbers = [1, 5, 10]\n",
    "# 여기에 코드를 작성하세요."
   ]
  },
  {
   "cell_type": "markdown",
   "metadata": {
    "slideshow": {
     "slide_type": "subslide"
    }
   },
   "source": [
    "### `continue` \n",
    "\n",
    "`continue`문은 continue 이후의 코드를 수행하지 않고 다음 요소를 선택해 반복을 계속 수행합니다."
   ]
  },
  {
   "cell_type": "code",
   "execution_count": null,
   "metadata": {},
   "outputs": [],
   "source": []
  },
  {
   "cell_type": "markdown",
   "metadata": {
    "slideshow": {
     "slide_type": "subslide"
    }
   },
   "source": [
    "### `else`\n",
    "\n",
    "`else`문은 끝까지 반복문을 시행한 이후에 실행됩니다.\n",
    "\n",
    "(`break`를 통해 중간에 종료되지 않은 경우만 실행)"
   ]
  },
  {
   "cell_type": "code",
   "execution_count": null,
   "metadata": {},
   "outputs": [],
   "source": []
  },
  {
   "cell_type": "code",
   "execution_count": null,
   "metadata": {},
   "outputs": [],
   "source": []
  },
  {
   "cell_type": "markdown",
   "metadata": {},
   "source": [
    "## 문제 풀이\n",
    "\n",
    "> 문제 풀이는 if문, 반복문 그리고 복합 문제로 구성되어 있습니다."
   ]
  },
  {
   "cell_type": "markdown",
   "metadata": {},
   "source": [
    "### 1번\n",
    "\n",
    ">1부터 100까지 자연수를 각각 제곱해 더한 값인 '제곱의 합'과 1부터 100을 먼저 더한 다음에 그 결과를 제곱한 '합의 제곱'의 차이를 구하는 코드를 작성하세요"
   ]
  },
  {
   "cell_type": "code",
   "execution_count": 36,
   "metadata": {},
   "outputs": [
    {
     "name": "stdout",
     "output_type": "stream",
     "text": [
      "25502500\n",
      "338350\n"
     ]
    }
   ],
   "source": [
    "#코드는 여기에 작성하세요\n",
    "\n",
    "제곱합 =  sum([x**2 for x in range(1,101)])\n",
    "합제곱 =  (sum(list(range(1,101))))**2\n",
    "\n",
    "\n",
    "print(합제곱)\n",
    "print(제곱합)"
   ]
  },
  {
   "cell_type": "markdown",
   "metadata": {},
   "source": [
    "### 2번\n",
    "\n",
    ">문자열 요소로만 이루어진 다음과 같은 리스트를 넣었을 때 (samples = ['level', 'asdwe', 's', 'abceda', 'gsdwrtfg']my), 문자열 길이가 2 이상이고 주어진 문자열의 첫번째와 마지막 문자가 같은 문자열의 수를 세는 코드를 작성하세요."
   ]
  },
  {
   "cell_type": "code",
   "execution_count": 44,
   "metadata": {},
   "outputs": [
    {
     "data": {
      "text/plain": [
       "3"
      ]
     },
     "execution_count": 44,
     "metadata": {},
     "output_type": "execute_result"
    }
   ],
   "source": [
    "#코드는 여기에 작성하세요.\n",
    "samples = ['level', 'asdwe', 's', 'abceda', 'gsdwrtfg']\n",
    "len([sample for sample in samples if len(sample) > 2 and sample[0]==sample[-1]])\n"
   ]
  },
  {
   "cell_type": "markdown",
   "metadata": {},
   "source": [
    "### 3번\n",
    "\n",
    ">items = [10,20,40,20,10,30,50,60,40,80,50,40,20,30,10] 다음 리스트에서 중복된 요소를 제거한 리스트를 출력하세요."
   ]
  },
  {
   "cell_type": "code",
   "execution_count": 45,
   "metadata": {},
   "outputs": [
    {
     "data": {
      "text/plain": [
       "[40, 10, 80, 50, 20, 60, 30]"
      ]
     },
     "execution_count": 45,
     "metadata": {},
     "output_type": "execute_result"
    }
   ],
   "source": [
    "#코드는 여기에 작성하세요.\n",
    "items = [10,20,40,20,10,30,50,60,40,80,50,40,20,30,10] \n",
    "list(set(items))"
   ]
  },
  {
   "cell_type": "markdown",
   "metadata": {},
   "source": [
    "### 4번\n",
    "\n",
    ">colors = ['Apple', 'Banana', 'Coconut', 'Deli', 'Ele', 'Grape']다음 리스트에서 0번째 4번째 5번째 요소를 지운 새로운 리스트를 생성하세요. (위의 예제에서 사용했던 enumerate 메소드가 아닌 다른 방법들을 사용해서 자유롭게 풀어보세요)"
   ]
  },
  {
   "cell_type": "code",
   "execution_count": 47,
   "metadata": {},
   "outputs": [
    {
     "data": {
      "text/plain": [
       "['Banana', 'Coconut', 'Deli']"
      ]
     },
     "execution_count": 47,
     "metadata": {},
     "output_type": "execute_result"
    }
   ],
   "source": [
    "#코드를 여기에 작성하세요1\n",
    "\n",
    "colors_ = []\n",
    "for x in range(len(colors)):\n",
    "    if x not in (0,4,5):\n",
    "        colors_.append(colors[x])\n",
    "\n",
    "colors_\n",
    "        \n",
    "#코드를 여기에 작성하세요2\n",
    "\n",
    "\n",
    "\n",
    "#코드를 여기에 작성하세요3\n",
    "\n"
   ]
  },
  {
   "cell_type": "markdown",
   "metadata": {},
   "source": [
    "### 5번 \n",
    "\n",
    "> 아래의 문자열을 분석하여 나이가 30미만이고 키가 175이상인 경우에는 YES를 출력하고 아닌 경우에는 NO를 출력하는 프로그램을 작성하세요. \n",
    "\n",
    "> 나이:30,키:180"
   ]
  },
  {
   "cell_type": "code",
   "execution_count": 48,
   "metadata": {},
   "outputs": [
    {
     "data": {
      "text/plain": [
       "'NO'"
      ]
     },
     "execution_count": 48,
     "metadata": {},
     "output_type": "execute_result"
    }
   ],
   "source": [
    "#코드를 여기에 작성하세요\n",
    "\n",
    "def YB(age,height):\n",
    "    return \"YES\" if age<30 and height>=175 else \"NO\"\n",
    "\n",
    "YB(30,180)"
   ]
  },
  {
   "cell_type": "markdown",
   "metadata": {},
   "source": [
    "### 6번\n",
    "\n",
    "> 1월부터 12월까지 다음과 같은 형태로 달력이 출력되도록 코드를 작성하세요.\n",
    "\n",
    "> 출력 예시\n",
    "\n",
    "```\n",
    "1 월\n",
    "일 월 화 수 목 금 토\n",
    "1 2 3 4 5 6 7\n",
    "8 9 10 11 12 13 14\n",
    "15 16 17 18 19 20 21\n",
    "22 23 24 25 26 27 28\n",
    "29 30 31\n",
    "2 월\n",
    "일 월 화 수 목 금 토\n",
    "1 2 3 4 5 6 7\n",
    "8 9 10 11 12 13 14\n",
    "15 16 17 18 19 20 21\n",
    "22 23 24 25 26 27 28\n",
    "```"
   ]
  },
  {
   "cell_type": "code",
   "execution_count": 52,
   "metadata": {},
   "outputs": [
    {
     "name": "stdout",
     "output_type": "stream",
     "text": [
      "1월\n",
      "일 월 화 수 목 금 토\n",
      "1 2 3 4 5 6 7\n",
      "8 9 10 11 12 13 14\n",
      "15 16 17 18 19 20 21\n",
      "22 23 24 25 26 27 28\n",
      "29 30 31\n",
      "2월\n",
      "일 월 화 수 목 금 토\n",
      "1 2 3 4 5 6 7\n",
      "8 9 10 11 12 13 14\n",
      "15 16 17 18 19 20 21\n",
      "22 23 24 25 26 27 28\n",
      "\n",
      "3월\n",
      "일 월 화 수 목 금 토\n",
      "1 2 3 4 5 6 7\n",
      "8 9 10 11 12 13 14\n",
      "15 16 17 18 19 20 21\n",
      "22 23 24 25 26 27 28\n",
      "29 30 31\n",
      "4월\n",
      "일 월 화 수 목 금 토\n",
      "1 2 3 4 5 6 7\n",
      "8 9 10 11 12 13 14\n",
      "15 16 17 18 19 20 21\n",
      "22 23 24 25 26 27 28\n",
      "29 30\n",
      "5월\n",
      "일 월 화 수 목 금 토\n",
      "1 2 3 4 5 6 7\n",
      "8 9 10 11 12 13 14\n",
      "15 16 17 18 19 20 21\n",
      "22 23 24 25 26 27 28\n",
      "29 30 31\n",
      "6월\n",
      "일 월 화 수 목 금 토\n",
      "1 2 3 4 5 6 7\n",
      "8 9 10 11 12 13 14\n",
      "15 16 17 18 19 20 21\n",
      "22 23 24 25 26 27 28\n",
      "29 30\n",
      "7월\n",
      "일 월 화 수 목 금 토\n",
      "1 2 3 4 5 6 7\n",
      "8 9 10 11 12 13 14\n",
      "15 16 17 18 19 20 21\n",
      "22 23 24 25 26 27 28\n",
      "29 30 31\n",
      "8월\n",
      "일 월 화 수 목 금 토\n",
      "1 2 3 4 5 6 7\n",
      "8 9 10 11 12 13 14\n",
      "15 16 17 18 19 20 21\n",
      "22 23 24 25 26 27 28\n",
      "29 30 31\n",
      "9월\n",
      "일 월 화 수 목 금 토\n",
      "1 2 3 4 5 6 7\n",
      "8 9 10 11 12 13 14\n",
      "15 16 17 18 19 20 21\n",
      "22 23 24 25 26 27 28\n",
      "29 30\n",
      "10월\n",
      "일 월 화 수 목 금 토\n",
      "1 2 3 4 5 6 7\n",
      "8 9 10 11 12 13 14\n",
      "15 16 17 18 19 20 21\n",
      "22 23 24 25 26 27 28\n",
      "29 30 31\n",
      "11월\n",
      "일 월 화 수 목 금 토\n",
      "1 2 3 4 5 6 7\n",
      "8 9 10 11 12 13 14\n",
      "15 16 17 18 19 20 21\n",
      "22 23 24 25 26 27 28\n",
      "29 30\n",
      "12월\n",
      "일 월 화 수 목 금 토\n",
      "1 2 3 4 5 6 7\n",
      "8 9 10 11 12 13 14\n",
      "15 16 17 18 19 20 21\n",
      "22 23 24 25 26 27 28\n",
      "29 30 31\n"
     ]
    }
   ],
   "source": [
    "# 여기에 코드를 작성하세요\n",
    "for month in range(1,13):\n",
    "    print(f\"{month}월\")\n",
    "    print(\"일 월 화 수 목 금 토\")\n",
    "    if month in (1,3,5,7,8,10,12):\n",
    "        endday = 31\n",
    "    elif month == 2:\n",
    "        endday = 28\n",
    "    else:\n",
    "        endday = 30\n",
    "    daylist = list(range(1,endday+1))\n",
    "    for x in range(5):\n",
    "        if daylist[7*x:7*(x+1)] is not None:\n",
    "            print(*daylist[7*x:7*(x+1)],sep=' ')"
   ]
  },
  {
   "cell_type": "code",
   "execution_count": null,
   "metadata": {},
   "outputs": [],
   "source": []
  }
 ],
 "metadata": {
  "celltoolbar": "Slideshow",
  "kernelspec": {
   "display_name": "Python 3",
   "language": "python",
   "name": "python3"
  },
  "language_info": {
   "codemirror_mode": {
    "name": "ipython",
    "version": 3
   },
   "file_extension": ".py",
   "mimetype": "text/x-python",
   "name": "python",
   "nbconvert_exporter": "python",
   "pygments_lexer": "ipython3",
   "version": "3.7.0"
  },
  "toc": {
   "base_numbering": 1,
   "nav_menu": {},
   "number_sections": true,
   "sideBar": true,
   "skip_h1_title": false,
   "title_cell": "Table of Contents",
   "title_sidebar": "Contents",
   "toc_cell": false,
   "toc_position": {},
   "toc_section_display": true,
   "toc_window_display": false
  }
 },
 "nbformat": 4,
 "nbformat_minor": 2
}
