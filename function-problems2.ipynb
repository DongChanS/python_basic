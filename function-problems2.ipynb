{
 "cells": [
  {
   "cell_type": "markdown",
   "metadata": {},
   "source": [
    "## 함수 문제 set 2"
   ]
  },
  {
   "cell_type": "markdown",
   "metadata": {},
   "source": [
    "### 문제1\n",
    "\n",
    "> 색이 칠해진 삼각형은 각각 빨강, 녹색 또는 파랑 색의 행에서 만들어집니다. 마지막 행보다 하나 적은 색을 각각 포함하는 연속 행은 이전 행에서 두 개의 색을 \n",
    "고려하여 생성됩니다. 이 색상이 동일하면 동일한 색상이 새 행에 사용됩니다. 색상이 다른 경우 누락 된 색상이 새 행에 사용됩니다. 단 하나의 색상으로 최종 행이 생성 될 때까지 계속됩니다.\n"
   ]
  },
  {
   "cell_type": "code",
   "execution_count": null,
   "metadata": {},
   "outputs": [],
   "source": [
    "\"\"\"\n",
    "Colour here:        G G        B G        R G        B R\n",
    "Becomes colour:    G           R           B            G\n",
    "   \n",
    "처리 과정 \n",
    "R R G B R G B B\n",
    " R B R G B R B\n",
    "  G G B R G G\n",
    "   G R G B G\n",
    "    B B R R\n",
    "     B G R\n",
    "      R B\n",
    "       G      \n",
    "\"\"\""
   ]
  },
  {
   "cell_type": "markdown",
   "metadata": {},
   "source": [
    "> 삼각형의 첫 행을 문자열로 지정하고 마지막 행을 문자열로 표시하는 최종 색을 반환합니다. 위 예제의 경우 RRGBRGBB를 반환해야합니다. 입력 문자열에는 대문자 R, G, B 만 포함되며 적어도 하나의 문자가있어 유효하지 않은 입력을  테스트 할 필요가 없습니다. 한 색상 만 입력으로 받으면 해당 색상을 반환하십시오.\n",
    "\n",
    "> 출력 결과\n",
    "- print(triangle('RRR')) => R\n",
    "- print(triangle('RG')) => B \n",
    "- print(triangle('RRRGGGBBBBBB')) => G\n",
    "- print(triangle('RRGBRGBB')) => G\n",
    "\n",
    "\n",
    "\n",
    "> Adapted from the 2017 British Informatics Olympiad"
   ]
  },
  {
   "cell_type": "code",
   "execution_count": 30,
   "metadata": {},
   "outputs": [
    {
     "name": "stdout",
     "output_type": "stream",
     "text": [
      "R R G B R G B B\n",
      " R B R G B R B\n",
      "  G G B R G G\n",
      "   G R G B G\n",
      "    B B R R\n",
      "     B G R\n",
      "      R B\n",
      "       G\n",
      "R R R G G G B B B B B B\n",
      " R R B G G R B B B B B\n",
      "  R G R G B G B B B B\n",
      "   B B B R R R B B B\n",
      "    B B G R R G B B\n",
      "     B R B R B R B\n",
      "      G G G G G G\n",
      "       G G G G G\n",
      "        G G G G\n",
      "         G G G\n",
      "          G G\n",
      "           G\n"
     ]
    }
   ],
   "source": [
    "#여기에 코드를 작성하세요\n",
    "colordict = {\"RG\":\"B\",\"RB\":\"G\",\"GR\":\"B\",\"GB\":\"R\",\"BR\":\"G\",\"BG\":\"R\"}\n",
    "\n",
    "def det(a):\n",
    "    return a[0] if a[0]==a[1] else colordict[a]\n",
    "# 다른 아이디어 : set은 -연산이 되는것을 이용해서 det를 잘 구할 수 있다.\n",
    "def below(string):\n",
    "    return \"\".join([det(a+b) for a,b in zip(string,\"R\"+string[:-1])][1:])\n",
    "def triangle(string):\n",
    "    N = len(string)\n",
    "    for x in range(N):\n",
    "        print(\" \"*x, end=\"\")\n",
    "        print(*string, sep=\" \")\n",
    "        if x == N:\n",
    "            return string\n",
    "        string = below(string)\n",
    "\n",
    "triangle('RRGBRGBB')\n",
    "triangle('RRRGGGBBBBBB')\n"
   ]
  },
  {
   "cell_type": "markdown",
   "metadata": {},
   "source": [
    "### 문제2\n",
    "\n",
    "> n개의 정수 리스트가 주어지면, 홀수와 짝수를 분리하고 각각의 조건에 맞게 홀수와 짝수를 \n",
    "정렬하세요.\n",
    "\n",
    "> 조건\n",
    "1. 짝수가 홀수보다 먼저오는 리스트를 반환합니다.\n",
    "2. 짝수는 오름차순으로 홀수는 내림차순으로 정렬합니다.\n",
    "3. 리스트의 크기는 적어도 4이상이어야 합니다.\n",
    "4. 리스트의 요소값으로 0은 존재하지 않습니다.\n",
    "5. 리스트의 요소값이 반복될 수 있으나 중복은 분리할 때 포함하지 않습니다.\n",
    "\n",
    "> 출력결과 \n",
    "- even_and_odd[7, 3 , 14 , 17] --> return [14, 17, 7, 3]\n",
    ":14는 짝수이기 때문에 가장 먼저 나오고 홀수는 내림차순으로 정렬을 하기 때문에 17, 7, 3\n",
    "의 순서로 반환됩니다."
   ]
  },
  {
   "cell_type": "code",
   "execution_count": 17,
   "metadata": {},
   "outputs": [
    {
     "data": {
      "text/plain": [
       "[14, 17, 7, 3]"
      ]
     },
     "execution_count": 17,
     "metadata": {},
     "output_type": "execute_result"
    }
   ],
   "source": [
    "# 여기에 코드를 작성하세요\n",
    "\n",
    "def even_and_odd(array):\n",
    "    odd,even = [],[]\n",
    "    for num in array:\n",
    "        odd.append(num) if num % 2 == 1 else even.append(num)\n",
    "    \n",
    "    even_sorted = sorted(list(set(even)))\n",
    "    odd_sorted = sorted(list(set(odd)))\n",
    "    # 다른아이디어 : 먼저 sort를 하고 배당하는것도 괜찮겠지만, 그러면 더 비효율적이다.\n",
    "    return even_sorted+odd_sorted[::-1]\n",
    "\n",
    "even_and_odd([7,3,14,17])"
   ]
  },
  {
   "cell_type": "markdown",
   "metadata": {},
   "source": [
    "### 문제3\n",
    "\n",
    ">정수로 된 리스트를 매개 변수로 가져와 해당 리스트의 모든 숫자를 처리할 수 있는\n",
    "함수를 작성하세요. 처리 조건은 다음과 같습니다.숫자에 정수 제곱근이 있는 경우 제곱근을 해주고 그렇지 않으면 숫자를 제곱합니다.입력 리스트는 수정할 수 없습니다."
   ]
  },
  {
   "cell_type": "code",
   "execution_count": 35,
   "metadata": {
    "scrolled": false
   },
   "outputs": [
    {
     "data": {
      "text/plain": [
       "[0.0, 1.0, 4, 9, 2.0, 25, 36, 49, 64, 3.0, 100, 121, 144, 169, 196]"
      ]
     },
     "execution_count": 35,
     "metadata": {},
     "output_type": "execute_result"
    }
   ],
   "source": [
    "#여기에 코드를 작성하세요\n",
    "def is_square(num):\n",
    "    # square이다 == 약수의 개수가 홀수이다\n",
    "    # 다른 아이디어 : is_integer라는 내장메서드가 있다고함.\n",
    "    count = 0\n",
    "    for x in range(1,num):\n",
    "        if num%x == 0:\n",
    "            count += 1\n",
    "    return count % 2 == 1\n",
    "    \n",
    "def manipulate(array):\n",
    "    return [x**2 if is_square(x) else x**(1/2) for x in array]\n",
    "\n",
    "manipulate(list(range(15)))"
   ]
  },
  {
   "cell_type": "markdown",
   "metadata": {},
   "source": [
    "### 문제4\n",
    "\n",
    ">원하는 행까지 아래의 패턴을 생성하는 함수를 작성하세요. 만약 인자가 0이나 음의 정수인 경우 \"\" 즉, 빈 문자열로 반환하세요.짝수가 인수로 전달되면 패턴은 통과된 짝수보다 작은 최대 홀수까지 계속되어야 합니다."
   ]
  },
  {
   "cell_type": "code",
   "execution_count": null,
   "metadata": {},
   "outputs": [],
   "source": [
    "\"\"\"\n",
    "예시 \n",
    "pattern(9):\n",
    "\n",
    "1\n",
    "333\n",
    "55555\n",
    "7777777\n",
    "999999999\n",
    "\n",
    "pattern(6)\n",
    "1\n",
    "333\n",
    "55555\n",
    "\n",
    "유의\n",
    "패턴에 공백은 없습니다.\n",
    "\n",
    "\"\"\""
   ]
  },
  {
   "cell_type": "code",
   "execution_count": 27,
   "metadata": {},
   "outputs": [
    {
     "name": "stdout",
     "output_type": "stream",
     "text": [
      "1\n",
      "33\n",
      "555\n",
      "7777\n"
     ]
    }
   ],
   "source": [
    "# 여기에 코드를 작성하세요\n",
    "def solution(num):\n",
    "    if num <= 0:\n",
    "        return \"\"\n",
    "    else:\n",
    "        height = (num+1)//2\n",
    "        for line in range(1,height+1):\n",
    "            print(f\"{2*line-1}\"*(line))\n",
    "            \n",
    "solution(8)"
   ]
  },
  {
   "cell_type": "markdown",
   "metadata": {},
   "source": [
    "### 문제5\n",
    "\n",
    ">(QWERTY 키보드를 사용하여 타이핑을 한다고 가정할 때) '편안한 단어'는 타이핑 할 때 손을\n",
    "번갈아 칠 수 있는 단어를 말합니다.단어를 인자로 받아 그것이 '편안한 단어'인지 여부를 True/False로 반환하는 함수를 만드세요.(모든 단어는 a ~ z까지 오름차순으로 구성된 문자열입니다.)\n",
    "\n",
    ">문자 목록\n",
    "- 왼손: q, w, e, r, t, a, s, s, d, f, g, z, x, c, v, b\n",
    "- 오른손: y, u, i, o, p, h, j, k, l, n, m"
   ]
  },
  {
   "cell_type": "code",
   "execution_count": 32,
   "metadata": {},
   "outputs": [
    {
     "data": {
      "text/plain": [
       "False"
      ]
     },
     "execution_count": 32,
     "metadata": {},
     "output_type": "execute_result"
    }
   ],
   "source": [
    "#여기에 코드를 작성하세요\n",
    "right_hand = [\"y\",\"u\",\"i\",\"o\",\"p\",\"h\",\"j\",\"k\",\"l\",\"n\",\"m\"]\n",
    "\n",
    "def is_comfortable(word):\n",
    "    before = word[0] in right_hand\n",
    "    for x in range(1,len(word)):\n",
    "        after = word[x] in right_hand\n",
    "        if after != before:\n",
    "            before = after\n",
    "        else:\n",
    "            return False\n",
    "    return True \n",
    "\n",
    "# 오름차순이라는 정보를 이용하면 더 효율적으로 짤 수 있긴한데..."
   ]
  }
 ],
 "metadata": {
  "kernelspec": {
   "display_name": "Python 3",
   "language": "python",
   "name": "python3"
  },
  "language_info": {
   "codemirror_mode": {
    "name": "ipython",
    "version": 3
   },
   "file_extension": ".py",
   "mimetype": "text/x-python",
   "name": "python",
   "nbconvert_exporter": "python",
   "pygments_lexer": "ipython3",
   "version": "3.7.0"
  }
 },
 "nbformat": 4,
 "nbformat_minor": 2
}
